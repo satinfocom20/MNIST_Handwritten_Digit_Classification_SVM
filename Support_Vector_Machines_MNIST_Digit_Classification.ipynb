{
 "cells": [
  {
   "cell_type": "markdown",
   "metadata": {},
   "source": [
    "# MNIST Handwritten Digit classification using Support Vector Machines"
   ]
  },
  {
   "cell_type": "markdown",
   "metadata": {},
   "source": [
    "We will train an SVM classifier on the MNIST dataset. Since SVM classifiers are binary classifiers, we will need to use one-versus-all to classify all 10 digits. We also need to tune the hyperparameters using small validation sets to speed up the process."
   ]
  },
  {
   "cell_type": "markdown",
   "metadata": {},
   "source": [
    "Lets train  on a dataset of handwritten numbers, with labels to tell us what the numbers should be. MNIST has 60,000 training examples, and 10,000 for testing.\n",
    "\n",
    "First, let's load the dataset and split it into a training set and a test set. We could use `train_test_split()` but we just take the first 60,000 instances for the training set, and the last 10,000 instances for the test set (this makes it possible to compare your model's performance with others): "
   ]
  },
  {
   "cell_type": "markdown",
   "metadata": {},
   "source": [
    "## Download MNSIT Data\n"
   ]
  },
  {
   "cell_type": "code",
   "execution_count": 107,
   "metadata": {
    "collapsed": true
   },
   "outputs": [],
   "source": [
    "from sklearn.datasets import fetch_mldata\n",
    "\n",
    "mnist = fetch_mldata(\"MNIST original\")\n",
    "X = mnist[\"data\"]\n",
    "y = mnist[\"target\"]\n",
    "\n",
    "X_train = X[:60000]\n",
    "y_train = y[:60000]\n",
    "X_test = X[60000:]\n",
    "y_test = y[60000:]"
   ]
  },
  {
   "cell_type": "code",
   "execution_count": 108,
   "metadata": {},
   "outputs": [
    {
     "data": {
      "text/plain": [
       "array([ 0.,  0.,  0., ...,  9.,  9.,  9.])"
      ]
     },
     "execution_count": 108,
     "metadata": {},
     "output_type": "execute_result"
    }
   ],
   "source": [
    "y_train"
   ]
  },
  {
   "cell_type": "markdown",
   "metadata": {},
   "source": [
    "Many training algorithms are sensitive to the order of the training instances, so it's generally good practice to shuffle them first:"
   ]
  },
  {
   "cell_type": "code",
   "execution_count": 109,
   "metadata": {
    "collapsed": true
   },
   "outputs": [],
   "source": [
    "np.random.seed(42)\n",
    "rnd_idx = np.random.permutation(60000)\n",
    "X_train = X_train[rnd_idx]\n",
    "y_train = y_train[rnd_idx]"
   ]
  },
  {
   "cell_type": "markdown",
   "metadata": {},
   "source": [
    "## Train a linear SVM classifier"
   ]
  },
  {
   "cell_type": "markdown",
   "metadata": {},
   "source": [
    "Let's start simple, with a linear SVM classifier. It will automatically use the One-vs-All (also called One-vs-the-Rest, OvR) strategy, so there's nothing special we need to do. Easy!"
   ]
  },
  {
   "cell_type": "code",
   "execution_count": 110,
   "metadata": {},
   "outputs": [
    {
     "data": {
      "text/plain": [
       "LinearSVC(C=1.0, class_weight=None, dual=True, fit_intercept=True,\n",
       "     intercept_scaling=1, loss='squared_hinge', max_iter=1000,\n",
       "     multi_class='ovr', penalty='l2', random_state=42, tol=0.0001,\n",
       "     verbose=0)"
      ]
     },
     "execution_count": 110,
     "metadata": {},
     "output_type": "execute_result"
    }
   ],
   "source": [
    "#might take a minute or two to train\n",
    "from sklearn.svm import LinearSVC\n",
    "lin_clf = LinearSVC(random_state=42)\n",
    "lin_clf.fit(X_train, y_train)"
   ]
  },
  {
   "cell_type": "markdown",
   "metadata": {},
   "source": [
    "Let's make predictions on the training set and measure the accuracy (we don't want to measure it on the test set yet, since we have not selected and trained the final model yet):"
   ]
  },
  {
   "cell_type": "code",
   "execution_count": 111,
   "metadata": {},
   "outputs": [
    {
     "data": {
      "text/plain": [
       "0.85375000000000001"
      ]
     },
     "execution_count": 111,
     "metadata": {},
     "output_type": "execute_result"
    }
   ],
   "source": [
    "from sklearn.metrics import accuracy_score\n",
    "\n",
    "y_pred = lin_clf.predict(X_train)\n",
    "accuracy_score(y_train, y_pred)"
   ]
  },
  {
   "cell_type": "markdown",
   "metadata": {},
   "source": [
    "Wow, 82% accuracy on MNIST is a really bad performance. This linear model is certainly too simple for MNIST, but perhaps we just needed to scale the data first:"
   ]
  },
  {
   "cell_type": "markdown",
   "metadata": {},
   "source": [
    "## Standardize the data and put in a pipeline\n",
    "\n",
    "Standardize the data and put in a pipeline"
   ]
  },
  {
   "cell_type": "code",
   "execution_count": 112,
   "metadata": {
    "collapsed": true
   },
   "outputs": [],
   "source": [
    "scaler = StandardScaler()\n",
    "X_train_scaled = scaler.fit_transform(X_train.astype(np.float32))\n",
    "X_test_scaled = scaler.transform(X_test.astype(np.float32))"
   ]
  },
  {
   "cell_type": "code",
   "execution_count": 113,
   "metadata": {},
   "outputs": [
    {
     "data": {
      "text/plain": [
       "LinearSVC(C=1.0, class_weight=None, dual=True, fit_intercept=True,\n",
       "     intercept_scaling=1, loss='squared_hinge', max_iter=1000,\n",
       "     multi_class='ovr', penalty='l2', random_state=42, tol=0.0001,\n",
       "     verbose=0)"
      ]
     },
     "execution_count": 113,
     "metadata": {},
     "output_type": "execute_result"
    }
   ],
   "source": [
    "lin_clf = LinearSVC(random_state=42)\n",
    "lin_clf.fit(X_train_scaled, y_train)"
   ]
  },
  {
   "cell_type": "code",
   "execution_count": 67,
   "metadata": {},
   "outputs": [
    {
     "data": {
      "text/plain": [
       "0.9224"
      ]
     },
     "execution_count": 67,
     "metadata": {},
     "output_type": "execute_result"
    }
   ],
   "source": [
    "y_pred = lin_clf.predict(X_train_scaled)\n",
    "accuracy_score(y_train, y_pred)"
   ]
  },
  {
   "cell_type": "code",
   "execution_count": 122,
   "metadata": {
    "collapsed": true
   },
   "outputs": [],
   "source": [
    "#Data prep and baseline pipeline\n",
    "\n",
    "minst_num_pipeline = Pipeline([\n",
    "#        ('imputer', Imputer(strategy=\"median\")), # - There are no missing values so imputer is not used\n",
    "        ('std_scaler', StandardScaler()),\n",
    "    ])\n",
    "\n",
    "\n",
    "minst_base_pipeline = Pipeline([\n",
    "        (\"preparation\", minst_num_pipeline),\n",
    "        (\"linear\", LinearSVC(random_state = 42)),\n",
    "        ])"
   ]
  },
  {
   "cell_type": "code",
   "execution_count": 123,
   "metadata": {},
   "outputs": [
    {
     "name": "stdout",
     "output_type": "stream",
     "text": [
      "Train Accuracy of LinearSVC:  0.9204\n"
     ]
    }
   ],
   "source": [
    "minst_base_pipeline.fit(X_train.astype(np.float32), y_train)\n",
    "y_pred_trn = minst_base_pipeline.predict(X_train.astype(np.float32))\n",
    "print('Train Accuracy of LinearSVC: ', accuracy_score(y_train, y_pred_trn))\n",
    "\n",
    "#minst_base_pipeline.fit(X_test)\n",
    "#y_pred_tst = minst_base_pipeline.predict(X_test)\n",
    "#print('Test Accuracy of LinearSVC: ', accuracy_score(y_test, y_pred_tst))"
   ]
  },
  {
   "cell_type": "markdown",
   "metadata": {},
   "source": [
    "## Use non-linear kernels (RBFs, Polynomial?)\n",
    "\n",
    "Put everything in a **pipeline**."
   ]
  },
  {
   "cell_type": "markdown",
   "metadata": {},
   "source": [
    "That's much better (we cut the error rate in two), but still not great at all for MNIST. If we want to use an SVM, we will have to use a kernel. Let's try an `SVC` with an RBF kernel (the default).\n",
    "\n",
    "Note: If we are using Scikit-Learn ≤ 0.19, the `SVC` class will use the One-vs-One (OvO) strategy by default, so we must explicitly set `decision_function_shape=\"ovr\"` if we want to use the OvR strategy instead (OvR is the default since 0.19)."
   ]
  },
  {
   "cell_type": "code",
   "execution_count": 124,
   "metadata": {},
   "outputs": [
    {
     "data": {
      "text/plain": [
       "SVC(C=1.0, cache_size=200, class_weight=None, coef0=0.0,\n",
       "  decision_function_shape='ovr', degree=3, gamma='auto', kernel='rbf',\n",
       "  max_iter=-1, probability=False, random_state=None, shrinking=True,\n",
       "  tol=0.001, verbose=False)"
      ]
     },
     "execution_count": 124,
     "metadata": {},
     "output_type": "execute_result"
    }
   ],
   "source": [
    "from sklearn.svm import SVC\n",
    "svm_clf = SVC(decision_function_shape=\"ovr\")\n",
    "svm_clf.fit(X_train_scaled[:10000], y_train[:10000])"
   ]
  },
  {
   "cell_type": "code",
   "execution_count": 125,
   "metadata": {},
   "outputs": [
    {
     "data": {
      "text/plain": [
       "0.94615000000000005"
      ]
     },
     "execution_count": 125,
     "metadata": {},
     "output_type": "execute_result"
    }
   ],
   "source": [
    "y_pred = svm_clf.predict(X_train_scaled)\n",
    "accuracy_score(y_train, y_pred)"
   ]
  },
  {
   "cell_type": "code",
   "execution_count": 128,
   "metadata": {
    "collapsed": true
   },
   "outputs": [],
   "source": [
    "#Pipelie to fine tune SVC with RBF kernel\n",
    "minst_SVC_pipeline = Pipeline([\n",
    "        (\"preparation\", minst_num_pipeline),\n",
    "        (\"SVC\", SVC(decision_function_shape=\"ovr\")),\n",
    "        ])"
   ]
  },
  {
   "cell_type": "code",
   "execution_count": 129,
   "metadata": {},
   "outputs": [
    {
     "name": "stdout",
     "output_type": "stream",
     "text": [
      "Train Accuracy of SVC RBF:  0.94485\n"
     ]
    }
   ],
   "source": [
    "minst_SVC_pipeline.fit(X_train.astype(np.float32)[:10000], y_train[:10000])\n",
    "y_pred_trn = minst_SVC_pipeline.predict(X_train.astype(np.float32))\n",
    "print('Train Accuracy of SVC RBF: ', accuracy_score(y_train, y_pred_trn))\n",
    "\n",
    "#minst_SVC_pipeline.fit(X_test)\n",
    "#y_pred_tst = minst_SVC_pipeline.predict(X_test)\n",
    "#print('Test Accuracy of SVC RBF: ', accuracy_score(y_test, y_pred_tst))"
   ]
  },
  {
   "cell_type": "markdown",
   "metadata": {},
   "source": [
    "## Tune hyperparameters\n",
    "\n",
    "Put everything in a **pipeline**."
   ]
  },
  {
   "cell_type": "markdown",
   "metadata": {},
   "source": [
    "That's promising, we get better performance even though we trained the model on 6 times less data. Let's tune the hyperparameters by doing a randomized search with cross validation. We will do this on a small dataset just to speed up the process:"
   ]
  },
  {
   "cell_type": "code",
   "execution_count": 130,
   "metadata": {},
   "outputs": [
    {
     "name": "stdout",
     "output_type": "stream",
     "text": [
      "Fitting 3 folds for each of 10 candidates, totalling 30 fits\n",
      "[CV] C=0.33087840419, gamma=0.00636473705545 .........................\n",
      "[CV] .......... C=0.33087840419, gamma=0.00636473705545, total=   1.6s\n",
      "[CV] C=0.33087840419, gamma=0.00636473705545 .........................\n"
     ]
    },
    {
     "name": "stderr",
     "output_type": "stream",
     "text": [
      "[Parallel(n_jobs=1)]: Done   1 out of   1 | elapsed:    2.3s remaining:    0.0s\n"
     ]
    },
    {
     "name": "stdout",
     "output_type": "stream",
     "text": [
      "[CV] .......... C=0.33087840419, gamma=0.00636473705545, total=   1.5s\n",
      "[CV] C=0.33087840419, gamma=0.00636473705545 .........................\n",
      "[CV] .......... C=0.33087840419, gamma=0.00636473705545, total=   1.5s\n",
      "[CV] C=3.55007967751, gamma=0.0513498334519 ..........................\n",
      "[CV] ........... C=3.55007967751, gamma=0.0513498334519, total=   1.5s\n",
      "[CV] C=3.55007967751, gamma=0.0513498334519 ..........................\n",
      "[CV] ........... C=3.55007967751, gamma=0.0513498334519, total=   1.5s\n",
      "[CV] C=3.55007967751, gamma=0.0513498334519 ..........................\n",
      "[CV] ........... C=3.55007967751, gamma=0.0513498334519, total=   1.5s\n",
      "[CV] C=2.23997163713, gamma=0.0599166657847 ..........................\n",
      "[CV] ........... C=2.23997163713, gamma=0.0599166657847, total=   1.4s\n",
      "[CV] C=2.23997163713, gamma=0.0599166657847 ..........................\n",
      "[CV] ........... C=2.23997163713, gamma=0.0599166657847, total=   1.5s\n",
      "[CV] C=2.23997163713, gamma=0.0599166657847 ..........................\n",
      "[CV] ........... C=2.23997163713, gamma=0.0599166657847, total=   1.5s\n",
      "[CV] C=3.22137439019, gamma=0.00359649052253 .........................\n",
      "[CV] .......... C=3.22137439019, gamma=0.00359649052253, total=   1.4s\n",
      "[CV] C=3.22137439019, gamma=0.00359649052253 .........................\n",
      "[CV] .......... C=3.22137439019, gamma=0.00359649052253, total=   1.4s\n",
      "[CV] C=3.22137439019, gamma=0.00359649052253 .........................\n",
      "[CV] .......... C=3.22137439019, gamma=0.00359649052253, total=   1.3s\n",
      "[CV] C=0.680425121783, gamma=0.00400233099291 ........................\n",
      "[CV] ......... C=0.680425121783, gamma=0.00400233099291, total=   1.2s\n",
      "[CV] C=0.680425121783, gamma=0.00400233099291 ........................\n",
      "[CV] ......... C=0.680425121783, gamma=0.00400233099291, total=   1.2s\n",
      "[CV] C=0.680425121783, gamma=0.00400233099291 ........................\n",
      "[CV] ......... C=0.680425121783, gamma=0.00400233099291, total=   1.2s\n",
      "[CV] C=0.908471513755, gamma=0.0175969575075 .........................\n",
      "[CV] .......... C=0.908471513755, gamma=0.0175969575075, total=   1.4s\n",
      "[CV] C=0.908471513755, gamma=0.0175969575075 .........................\n",
      "[CV] .......... C=0.908471513755, gamma=0.0175969575075, total=   1.4s\n",
      "[CV] C=0.908471513755, gamma=0.0175969575075 .........................\n",
      "[CV] .......... C=0.908471513755, gamma=0.0175969575075, total=   1.3s\n",
      "[CV] C=2.3395964511, gamma=0.0157352905643 ...........................\n",
      "[CV] ............ C=2.3395964511, gamma=0.0157352905643, total=   1.3s\n",
      "[CV] C=2.3395964511, gamma=0.0157352905643 ...........................\n",
      "[CV] ............ C=2.3395964511, gamma=0.0157352905643, total=   1.3s\n",
      "[CV] C=2.3395964511, gamma=0.0157352905643 ...........................\n",
      "[CV] ............ C=2.3395964511, gamma=0.0157352905643, total=   1.4s\n",
      "[CV] C=0.757214145966, gamma=0.0383464752611 .........................\n",
      "[CV] .......... C=0.757214145966, gamma=0.0383464752611, total=   1.4s\n",
      "[CV] C=0.757214145966, gamma=0.0383464752611 .........................\n",
      "[CV] .......... C=0.757214145966, gamma=0.0383464752611, total=   1.4s\n",
      "[CV] C=0.757214145966, gamma=0.0383464752611 .........................\n",
      "[CV] .......... C=0.757214145966, gamma=0.0383464752611, total=   1.3s\n",
      "[CV] C=1.73450433417, gamma=0.0088085381726 ..........................\n",
      "[CV] ........... C=1.73450433417, gamma=0.0088085381726, total=   1.3s\n",
      "[CV] C=1.73450433417, gamma=0.0088085381726 ..........................\n",
      "[CV] ........... C=1.73450433417, gamma=0.0088085381726, total=   1.3s\n",
      "[CV] C=1.73450433417, gamma=0.0088085381726 ..........................\n",
      "[CV] ........... C=1.73450433417, gamma=0.0088085381726, total=   1.4s\n",
      "[CV] C=3.98784738484, gamma=0.00366896502611 .........................\n",
      "[CV] .......... C=3.98784738484, gamma=0.00366896502611, total=   1.2s\n",
      "[CV] C=3.98784738484, gamma=0.00366896502611 .........................\n",
      "[CV] .......... C=3.98784738484, gamma=0.00366896502611, total=   1.2s\n",
      "[CV] C=3.98784738484, gamma=0.00366896502611 .........................\n",
      "[CV] .......... C=3.98784738484, gamma=0.00366896502611, total=   1.2s\n"
     ]
    },
    {
     "name": "stderr",
     "output_type": "stream",
     "text": [
      "[Parallel(n_jobs=1)]: Done  30 out of  30 | elapsed:  1.0min finished\n"
     ]
    },
    {
     "data": {
      "text/plain": [
       "RandomizedSearchCV(cv=None, error_score='raise',\n",
       "          estimator=SVC(C=1.0, cache_size=200, class_weight=None, coef0=0.0,\n",
       "  decision_function_shape='ovr', degree=3, gamma='auto', kernel='rbf',\n",
       "  max_iter=-1, probability=False, random_state=None, shrinking=True,\n",
       "  tol=0.001, verbose=False),\n",
       "          fit_params=None, iid=True, n_iter=10, n_jobs=1,\n",
       "          param_distributions={'gamma': <scipy.stats._distn_infrastructure.rv_frozen object at 0x00000201E372E8D0>, 'C': <scipy.stats._distn_infrastructure.rv_frozen object at 0x00000201FB30DBA8>},\n",
       "          pre_dispatch='2*n_jobs', random_state=None, refit=True,\n",
       "          return_train_score='warn', scoring=None, verbose=2)"
      ]
     },
     "execution_count": 130,
     "metadata": {},
     "output_type": "execute_result"
    }
   ],
   "source": [
    "from sklearn.model_selection import RandomizedSearchCV\n",
    "from scipy.stats import reciprocal, uniform\n",
    "\n",
    "param_distributions = {\"gamma\": reciprocal(0.001, 0.1), \"C\": uniform(loc=0, scale=4)}\n",
    "rnd_search_cv = RandomizedSearchCV(svm_clf, param_distributions, n_iter=10, verbose=2)\n",
    "rnd_search_cv.fit(X_train_scaled[:1000], y_train[:1000])  #### use a subset of the data to speed things up"
   ]
  },
  {
   "cell_type": "code",
   "execution_count": 131,
   "metadata": {},
   "outputs": [
    {
     "data": {
      "text/plain": [
       "SVC(C=3.2213743901948475, cache_size=200, class_weight=None, coef0=0.0,\n",
       "  decision_function_shape='ovr', degree=3, gamma=0.0035964905225331812,\n",
       "  kernel='rbf', max_iter=-1, probability=False, random_state=None,\n",
       "  shrinking=True, tol=0.001, verbose=False)"
      ]
     },
     "execution_count": 131,
     "metadata": {},
     "output_type": "execute_result"
    }
   ],
   "source": [
    "rnd_search_cv.best_estimator_"
   ]
  },
  {
   "cell_type": "code",
   "execution_count": 132,
   "metadata": {},
   "outputs": [
    {
     "data": {
      "text/plain": [
       "0.81200000000000006"
      ]
     },
     "execution_count": 132,
     "metadata": {},
     "output_type": "execute_result"
    }
   ],
   "source": [
    "rnd_search_cv.best_score_"
   ]
  },
  {
   "cell_type": "markdown",
   "metadata": {},
   "source": [
    "This looks pretty low but we only trained the model on 1,000 instances. Let's retrain the best estimator on the whole training set (run this at night, it will take hours):"
   ]
  },
  {
   "cell_type": "code",
   "execution_count": 133,
   "metadata": {},
   "outputs": [
    {
     "data": {
      "text/plain": [
       "SVC(C=3.2213743901948475, cache_size=200, class_weight=None, coef0=0.0,\n",
       "  decision_function_shape='ovr', degree=3, gamma=0.0035964905225331812,\n",
       "  kernel='rbf', max_iter=-1, probability=False, random_state=None,\n",
       "  shrinking=True, tol=0.001, verbose=False)"
      ]
     },
     "execution_count": 133,
     "metadata": {},
     "output_type": "execute_result"
    }
   ],
   "source": [
    "rnd_search_cv.best_estimator_.fit(X_train_scaled, y_train)"
   ]
  },
  {
   "cell_type": "code",
   "execution_count": 134,
   "metadata": {},
   "outputs": [
    {
     "data": {
      "text/plain": [
       "0.99968333333333337"
      ]
     },
     "execution_count": 134,
     "metadata": {},
     "output_type": "execute_result"
    }
   ],
   "source": [
    "y_pred = rnd_search_cv.best_estimator_.predict(X_train_scaled)\n",
    "accuracy_score(y_train, y_pred)"
   ]
  },
  {
   "cell_type": "markdown",
   "metadata": {},
   "source": [
    "This looks good! Let's select this model. Now we can test it on the test set:"
   ]
  },
  {
   "cell_type": "code",
   "execution_count": 135,
   "metadata": {},
   "outputs": [
    {
     "data": {
      "text/plain": [
       "0.96009999999999995"
      ]
     },
     "execution_count": 135,
     "metadata": {},
     "output_type": "execute_result"
    }
   ],
   "source": [
    "y_pred = rnd_search_cv.best_estimator_.predict(X_test_scaled)\n",
    "accuracy_score(y_test, y_pred)"
   ]
  },
  {
   "cell_type": "markdown",
   "metadata": {},
   "source": [
    "This reulst is not too bad, but apparently the model is overfitting slightly. It's tempting to tweak the hyperparameters a bit more (e.g. decreasing `C` and/or `gamma`), but we would run the risk of overfitting the test set. Other people have found that the hyperparameters `C=5` and `gamma=0.005` yield even better performance (over 98% accuracy). By running the randomized search for longer and on a larger part of the training set, we may be able to find this as well."
   ]
  },
  {
   "cell_type": "code",
   "execution_count": 149,
   "metadata": {},
   "outputs": [
    {
     "name": "stdout",
     "output_type": "stream",
     "text": [
      "Fitting 3 folds for each of 10 candidates, totalling 30 fits\n",
      "[CV] SVC__C=2.34693833981, SVC__gamma=0.0541848283081 ................\n",
      "[CV] . SVC__C=2.34693833981, SVC__gamma=0.0541848283081, total= 2.5min\n",
      "[CV] SVC__C=2.34693833981, SVC__gamma=0.0541848283081 ................\n"
     ]
    },
    {
     "name": "stderr",
     "output_type": "stream",
     "text": [
      "[Parallel(n_jobs=1)]: Done   1 out of   1 | elapsed:  3.5min remaining:    0.0s\n"
     ]
    },
    {
     "name": "stdout",
     "output_type": "stream",
     "text": [
      "[CV] . SVC__C=2.34693833981, SVC__gamma=0.0541848283081, total= 2.5min\n",
      "[CV] SVC__C=2.34693833981, SVC__gamma=0.0541848283081 ................\n",
      "[CV] . SVC__C=2.34693833981, SVC__gamma=0.0541848283081, total= 2.5min\n",
      "[CV] SVC__C=1.29718889671, SVC__gamma=0.073882218826 .................\n",
      "[CV] .. SVC__C=1.29718889671, SVC__gamma=0.073882218826, total= 2.5min\n",
      "[CV] SVC__C=1.29718889671, SVC__gamma=0.073882218826 .................\n",
      "[CV] .. SVC__C=1.29718889671, SVC__gamma=0.073882218826, total= 2.5min\n",
      "[CV] SVC__C=1.29718889671, SVC__gamma=0.073882218826 .................\n",
      "[CV] .. SVC__C=1.29718889671, SVC__gamma=0.073882218826, total= 2.5min\n",
      "[CV] SVC__C=1.33080974845, SVC__gamma=0.0166112624505 ................\n",
      "[CV] . SVC__C=1.33080974845, SVC__gamma=0.0166112624505, total= 2.3min\n",
      "[CV] SVC__C=1.33080974845, SVC__gamma=0.0166112624505 ................\n",
      "[CV] . SVC__C=1.33080974845, SVC__gamma=0.0166112624505, total= 2.3min\n",
      "[CV] SVC__C=1.33080974845, SVC__gamma=0.0166112624505 ................\n",
      "[CV] . SVC__C=1.33080974845, SVC__gamma=0.0166112624505, total= 2.3min\n",
      "[CV] SVC__C=2.88818429273, SVC__gamma=0.00490717480673 ...............\n",
      "[CV]  SVC__C=2.88818429273, SVC__gamma=0.00490717480673, total= 1.6min\n",
      "[CV] SVC__C=2.88818429273, SVC__gamma=0.00490717480673 ...............\n",
      "[CV]  SVC__C=2.88818429273, SVC__gamma=0.00490717480673, total= 1.6min\n",
      "[CV] SVC__C=2.88818429273, SVC__gamma=0.00490717480673 ...............\n",
      "[CV]  SVC__C=2.88818429273, SVC__gamma=0.00490717480673, total= 1.6min\n",
      "[CV] SVC__C=1.40882564808, SVC__gamma=0.00870942852398 ...............\n",
      "[CV]  SVC__C=1.40882564808, SVC__gamma=0.00870942852398, total= 2.1min\n",
      "[CV] SVC__C=1.40882564808, SVC__gamma=0.00870942852398 ...............\n",
      "[CV]  SVC__C=1.40882564808, SVC__gamma=0.00870942852398, total= 2.1min\n",
      "[CV] SVC__C=1.40882564808, SVC__gamma=0.00870942852398 ...............\n",
      "[CV]  SVC__C=1.40882564808, SVC__gamma=0.00870942852398, total= 2.1min\n",
      "[CV] SVC__C=3.34089371242, SVC__gamma=0.00159111487221 ...............\n",
      "[CV]  SVC__C=3.34089371242, SVC__gamma=0.00159111487221, total=  41.9s\n",
      "[CV] SVC__C=3.34089371242, SVC__gamma=0.00159111487221 ...............\n",
      "[CV]  SVC__C=3.34089371242, SVC__gamma=0.00159111487221, total=  43.5s\n",
      "[CV] SVC__C=3.34089371242, SVC__gamma=0.00159111487221 ...............\n",
      "[CV]  SVC__C=3.34089371242, SVC__gamma=0.00159111487221, total=  43.6s\n",
      "[CV] SVC__C=2.5259175416, SVC__gamma=0.0226305890654 .................\n",
      "[CV] .. SVC__C=2.5259175416, SVC__gamma=0.0226305890654, total= 2.5min\n",
      "[CV] SVC__C=2.5259175416, SVC__gamma=0.0226305890654 .................\n",
      "[CV] .. SVC__C=2.5259175416, SVC__gamma=0.0226305890654, total= 2.5min\n",
      "[CV] SVC__C=2.5259175416, SVC__gamma=0.0226305890654 .................\n",
      "[CV] .. SVC__C=2.5259175416, SVC__gamma=0.0226305890654, total= 2.5min\n",
      "[CV] SVC__C=2.23149103996, SVC__gamma=0.0744177910631 ................\n",
      "[CV] . SVC__C=2.23149103996, SVC__gamma=0.0744177910631, total= 2.8min\n",
      "[CV] SVC__C=2.23149103996, SVC__gamma=0.0744177910631 ................\n",
      "[CV] . SVC__C=2.23149103996, SVC__gamma=0.0744177910631, total= 2.7min\n",
      "[CV] SVC__C=2.23149103996, SVC__gamma=0.0744177910631 ................\n",
      "[CV] . SVC__C=2.23149103996, SVC__gamma=0.0744177910631, total= 2.6min\n",
      "[CV] SVC__C=2.40796286774, SVC__gamma=0.0185846121543 ................\n",
      "[CV] . SVC__C=2.40796286774, SVC__gamma=0.0185846121543, total= 2.5min\n",
      "[CV] SVC__C=2.40796286774, SVC__gamma=0.0185846121543 ................\n",
      "[CV] . SVC__C=2.40796286774, SVC__gamma=0.0185846121543, total= 2.5min\n",
      "[CV] SVC__C=2.40796286774, SVC__gamma=0.0185846121543 ................\n",
      "[CV] . SVC__C=2.40796286774, SVC__gamma=0.0185846121543, total= 2.5min\n",
      "[CV] SVC__C=2.39904011166, SVC__gamma=0.0277995361699 ................\n",
      "[CV] . SVC__C=2.39904011166, SVC__gamma=0.0277995361699, total= 2.5min\n",
      "[CV] SVC__C=2.39904011166, SVC__gamma=0.0277995361699 ................\n",
      "[CV] . SVC__C=2.39904011166, SVC__gamma=0.0277995361699, total= 2.5min\n",
      "[CV] SVC__C=2.39904011166, SVC__gamma=0.0277995361699 ................\n",
      "[CV] . SVC__C=2.39904011166, SVC__gamma=0.0277995361699, total= 2.5min\n"
     ]
    },
    {
     "name": "stderr",
     "output_type": "stream",
     "text": [
      "[Parallel(n_jobs=1)]: Done  30 out of  30 | elapsed: 92.9min finished\n"
     ]
    },
    {
     "name": "stdout",
     "output_type": "stream",
     "text": [
      "Train Accuracy of SVC tuned:  0.997033333333\n"
     ]
    }
   ],
   "source": [
    "param_distributions1 = {\"SVC__gamma\": reciprocal(0.001, 0.1), \"SVC__C\": uniform(loc=0, scale=4)}\n",
    "\n",
    "rnd_search_cv_SVCtune = RandomizedSearchCV(minst_SVC_pipeline, param_distributions1, n_iter=10, cv=3, verbose=2)\n",
    "rnd_search_cv_SVCtune.fit(X_train.astype(np.float32)[:10000], y_train[:10000])\n",
    "\n",
    "rnd_search_cv_SVCtune.best_estimator_.fit(X_train.astype(np.float32), y_train)\n",
    "\n",
    "y_pred_SVCtune = rnd_search_cv_SVCtune.best_estimator_.predict(X_train.astype(np.float32))\n",
    "acc = accuracy_score(y_train, y_pred_SVCtune)\n",
    "\n",
    "print('Train Accuracy of SVC tuned: ', acc)\n",
    "\n"
   ]
  }
 ],
 "metadata": {
  "kernelspec": {
   "display_name": "Python 3",
   "language": "python",
   "name": "python3"
  },
  "language_info": {
   "codemirror_mode": {
    "name": "ipython",
    "version": 3
   },
   "file_extension": ".py",
   "mimetype": "text/x-python",
   "name": "python",
   "nbconvert_exporter": "python",
   "pygments_lexer": "ipython3",
   "version": "3.6.5"
  },
  "nav_menu": {},
  "toc": {
   "nav_menu": {
    "height": "334px",
    "width": "444px"
   },
   "number_sections": true,
   "sideBar": true,
   "skip_h1_title": false,
   "title_cell": "Table of Contents",
   "title_sidebar": "Contents",
   "toc_cell": false,
   "toc_position": {},
   "toc_section_display": "block",
   "toc_window_display": true
  }
 },
 "nbformat": 4,
 "nbformat_minor": 1
}
